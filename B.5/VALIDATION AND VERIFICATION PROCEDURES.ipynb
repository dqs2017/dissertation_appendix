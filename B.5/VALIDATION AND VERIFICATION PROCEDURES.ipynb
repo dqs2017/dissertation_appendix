{
 "cells": [
  {
   "cell_type": "code",
   "execution_count": 2,
   "metadata": {},
   "outputs": [],
   "source": [
    "import pandas as pd\n",
    "from pandas import Series, DataFrame\n",
    "import matplotlib as mpl\n",
    "mpl.use('agg')\n",
    "\n",
    "%matplotlib inline\n",
    "import matplotlib.pyplot as plt\n",
    "import numpy as np\n",
    "import seaborn as sns\n",
    "sns.set(color_codes=True)"
   ]
  },
  {
   "cell_type": "code",
   "execution_count": 3,
   "metadata": {},
   "outputs": [],
   "source": [
    "baseline = pd.read_excel('files/baseline.xlsx')\n",
    "H1_a = pd.read_excel('files/H1_a.xlsx')\n",
    "H1_b = pd.read_excel('files/H1_b.xlsx')\n",
    "H2_a = pd.read_excel('files/H2_a.xlsx')\n",
    "H2_b = pd.read_excel('files/H2_b.xlsx')\n",
    "\n",
    "\n",
    "H5_a = pd.read_excel('files/H5_a.xlsx')\n",
    "H5_b = pd.read_excel('files/H5_b.xlsx')\n",
    "H5_d50S = pd.read_excel('files/H5_d50S.xlsx')\n",
    "H9_b50 = pd.read_excel('files/H9_b50.xlsx')\n",
    "\n"
   ]
  },
  {
   "cell_type": "code",
   "execution_count": null,
   "metadata": {},
   "outputs": [],
   "source": []
  },
  {
   "cell_type": "markdown",
   "metadata": {},
   "source": [
    "<H2> Preliminary Functions to Compute Output Variables"
   ]
  },
  {
   "cell_type": "code",
   "execution_count": 4,
   "metadata": {},
   "outputs": [],
   "source": [
    "def NV(df):\n",
    "    return df.Visited\n",
    "\n",
    "def TSC(df):\n",
    "    return df.Terminal\n",
    "\n",
    "def ATD(df):\n",
    "    ATD_list = []\n",
    "    \n",
    "    for i in df.index:\n",
    "        depth_list = [df.Depth[i]]\n",
    "        n_terminal = df.Terminal[i]\n",
    "        \n",
    "        if n_terminal > 1:\n",
    "            for x in range(1,n_terminal):\n",
    "                depth_list.append(df['Depth.%d'%x][i])\n",
    "        \n",
    "        avg_depth = np.mean(depth_list)\n",
    "        \n",
    "        ATD_list.append(avg_depth)\n",
    "         \n",
    "    ATD_series = pd.Series(ATD_list)\n",
    "    return ATD_series\n",
    "\n",
    "def TL(df):\n",
    "    TL_list = []\n",
    "    \n",
    "    for i in df.index:\n",
    "        depth_list = [df.Depth[i]]\n",
    "        n_terminal = df.Terminal[i]\n",
    "        \n",
    "        if n_terminal == 0:\n",
    "            TL_list.append(0)\n",
    "        \n",
    "        if n_terminal == 1:\n",
    "            \n",
    "            likelihood = 1.0\n",
    "            d = df.Depth[i]\n",
    "            \n",
    "            for j in range(0,int(d)):\n",
    "                branching_factor = df['Branching @ %d' %j][i]\n",
    "                likelihood = likelihood/branching_factor\n",
    "            \n",
    "            TL_list.append(likelihood)\n",
    "            \n",
    "        if n_terminal > 1:\n",
    "            \n",
    "            for x in range(1,n_terminal):\n",
    "                depth_list.append(df['Depth.%d'%x][i])\n",
    "            \n",
    "            L_list = []\n",
    "\n",
    "            for d in depth_list:\n",
    "                likelihood = 1.0\n",
    "                                               \n",
    "                for j in range(0,int(d)):\n",
    "                                                                   \n",
    "                    branching_factor = df['Branching @ %d' %j][i]\n",
    "                    \n",
    "                    # debugging\n",
    "                    if branching_factor == 0:\n",
    "                        print i, j, df['Branching @ %d' %(j-1)][i], df.Time[i]\n",
    "                        \n",
    "                    likelihood = likelihood/branching_factor\n",
    "                \n",
    "                L_list.append(likelihood)\n",
    "\n",
    "            total_likelihood = np.sum(L_list)\n",
    "            TL_list.append(total_likelihood)\n",
    "    \n",
    "    TL_series = pd.Series(TL_list)\n",
    "    return TL_series\n",
    "            \n",
    "def CL(df):\n",
    "    return df.Loops/df.Visited"
   ]
  },
  {
   "cell_type": "markdown",
   "metadata": {},
   "source": [
    "<h2> Master Function"
   ]
  },
  {
   "cell_type": "code",
   "execution_count": 5,
   "metadata": {},
   "outputs": [],
   "source": [
    "def von_Neumann(output, cat_name):\n",
    "    \n",
    "    df = pd.DataFrame(columns=['Nodes_Visited', 'Terminal_State_Count', 'Avg_Terminal_Depth', \n",
    "                          'Terminal_Likelihood', 'Cyclic_Likelihood'])\n",
    "\n",
    "    df['Nodes_Visited'] = NV(output)\n",
    "    df['Terminal_State_Count'] = TSC(output)\n",
    "    df['Avg_Terminal_Depth'] = ATD(output)\n",
    "    df['Terminal_Likelihood'] = TL(output)\n",
    "    df['Cyclic_Likelihood'] = CL(output)\n",
    "    \n",
    "    df.insert(0,'Configuration',cat_name)\n",
    "    \n",
    "    return df\n",
    "    "
   ]
  },
  {
   "cell_type": "markdown",
   "metadata": {},
   "source": [
    "<h2> H3 Work"
   ]
  },
  {
   "cell_type": "code",
   "execution_count": 19,
   "metadata": {
    "scrolled": true
   },
   "outputs": [
    {
     "name": "stderr",
     "output_type": "stream",
     "text": [
      "/Library/Frameworks/Python.framework/Versions/2.7/lib/python2.7/site-packages/seaborn/distributions.py:195: RuntimeWarning: Mean of empty slice.\n",
      "  line, = ax.plot(a.mean(), 0)\n",
      "/Library/Frameworks/Python.framework/Versions/2.7/lib/python2.7/site-packages/numpy/core/_methods.py:80: RuntimeWarning: invalid value encountered in double_scalars\n",
      "  ret = ret.dtype.type(ret / rcount)\n",
      "/Library/Frameworks/Python.framework/Versions/2.7/lib/python2.7/site-packages/matplotlib/axes/_axes.py:6201: RuntimeWarning: invalid value encountered in true_divide\n",
      "  m = (m.astype(float) / db) / m.sum()\n"
     ]
    },
    {
     "data": {
      "text/plain": [
       "<matplotlib.axes._subplots.AxesSubplot at 0x10dd60410>"
      ]
     },
     "execution_count": 19,
     "metadata": {},
     "output_type": "execute_result"
    },
    {
     "data": {
      "image/png": "[encoded data removed]",
      "text/plain": [
       "<matplotlib.figure.Figure at 0x10db2e0d0>"
      ]
     },
     "metadata": {},
     "output_type": "display_data"
    }
   ],
   "source": [
    "H3_a50 = pd.read_excel('files/H3_a50.xlsx')\n",
    "H3_a50copy = pd.read_excel('files/grande_bellezza/H3_a50.xlsx')\n",
    "\n",
    "H3_b = pd.read_excel('files/grande_bellezza/H3_b.xlsx')\n",
    "\n",
    "H3_c100 = pd.read_excel('files/grande_bellezza/H3_c100.xlsx')\n",
    "H3_d100 = pd.read_excel('files/grande_bellezza/H3_d100.xlsx')\n",
    "\n",
    "H3_e100 = pd.read_excel('files/grande_bellezza/H3_e100.xlsx')\n",
    "H3_e100r2 = pd.read_excel('files/grande_bellezza/H3_e100r2.xlsx')\n",
    "H3_e100r3 = pd.read_excel('files/grande_bellezza/H3_e100r3.xlsx')\n",
    "\n",
    "\n",
    "\n",
    "H3_f = pd.read_excel('files/grande_bellezza/H3_f100.xlsx')\n",
    "\n",
    "\n",
    "H3_ao1 = von_Neumann(H3_a50, '1D')\n",
    "H3_ao2 = von_Neumann(H3_a50copy, '1D')\n",
    "H3_bo = von_Neumann(H3_b,'3D')\n",
    "H3_co = von_Neumann(H3_c100,'6D')\n",
    "H3_do = von_Neumann(H3_d100,'2D')\n",
    "H3_eo = von_Neumann(H3_e100,'4D')\n",
    "H3_eor2 = von_Neumann(H3_e100r2,'4D')\n",
    "H3_eor3 = von_Neumann(H3_e100r3,'4D')\n",
    "H3_fo = von_Neumann(H3_f,'5D')\n",
    "\n",
    "frames = [H3_ao1, H3_ao2, H3_bo, H3_fo, H3_co, H3_do, H3_eo, H3_eor2, H3_eor3]\n",
    "result = pd.concat(frames)\n",
    "\n",
    "groupby_confi = result.groupby('Configuration')\n",
    "\n",
    "sns.distplot((result.loc[result.Configuration=='H3_b']).Terminal_State_Count)"
   ]
  },
  {
   "cell_type": "code",
   "execution_count": 18,
   "metadata": {},
   "outputs": [
    {
     "data": {
      "text/html": [
       "<div>\n",
       "<style>\n",
       "    .dataframe thead tr:only-child th {\n",
       "        text-align: right;\n",
       "    }\n",
       "\n",
       "    .dataframe thead th {\n",
       "        text-align: left;\n",
       "    }\n",
       "\n",
       "    .dataframe tbody tr th {\n",
       "        vertical-align: top;\n",
       "    }\n",
       "</style>\n",
       "<table border=\"1\" class=\"dataframe\">\n",
       "  <thead>\n",
       "    <tr style=\"text-align: right;\">\n",
       "      <th></th>\n",
       "      <th>Nodes_Visited</th>\n",
       "      <th>Terminal_State_Count</th>\n",
       "      <th>Avg_Terminal_Depth</th>\n",
       "      <th>Terminal_Likelihood</th>\n",
       "      <th>Cyclic_Likelihood</th>\n",
       "    </tr>\n",
       "  </thead>\n",
       "  <tbody>\n",
       "    <tr>\n",
       "      <th>count</th>\n",
       "      <td>300.000000</td>\n",
       "      <td>300.000000</td>\n",
       "      <td>284.000000</td>\n",
       "      <td>300.000000</td>\n",
       "      <td>300.000000</td>\n",
       "    </tr>\n",
       "    <tr>\n",
       "      <th>mean</th>\n",
       "      <td>11268.763333</td>\n",
       "      <td>1.143333</td>\n",
       "      <td>4.793134</td>\n",
       "      <td>0.003298</td>\n",
       "      <td>0.396706</td>\n",
       "    </tr>\n",
       "    <tr>\n",
       "      <th>std</th>\n",
       "      <td>24559.394222</td>\n",
       "      <td>0.526351</td>\n",
       "      <td>1.024040</td>\n",
       "      <td>0.012432</td>\n",
       "      <td>0.356642</td>\n",
       "    </tr>\n",
       "    <tr>\n",
       "      <th>min</th>\n",
       "      <td>8.000000</td>\n",
       "      <td>0.000000</td>\n",
       "      <td>2.000000</td>\n",
       "      <td>0.000000</td>\n",
       "      <td>-0.000009</td>\n",
       "    </tr>\n",
       "    <tr>\n",
       "      <th>25%</th>\n",
       "      <td>120.000000</td>\n",
       "      <td>1.000000</td>\n",
       "      <td>4.000000</td>\n",
       "      <td>0.000005</td>\n",
       "      <td>0.000000</td>\n",
       "    </tr>\n",
       "    <tr>\n",
       "      <th>50%</th>\n",
       "      <td>537.500000</td>\n",
       "      <td>1.000000</td>\n",
       "      <td>5.000000</td>\n",
       "      <td>0.000075</td>\n",
       "      <td>0.327746</td>\n",
       "    </tr>\n",
       "    <tr>\n",
       "      <th>75%</th>\n",
       "      <td>7230.500000</td>\n",
       "      <td>1.000000</td>\n",
       "      <td>5.500000</td>\n",
       "      <td>0.000730</td>\n",
       "      <td>0.720308</td>\n",
       "    </tr>\n",
       "    <tr>\n",
       "      <th>max</th>\n",
       "      <td>111493.000000</td>\n",
       "      <td>4.000000</td>\n",
       "      <td>7.500000</td>\n",
       "      <td>0.166667</td>\n",
       "      <td>1.000000</td>\n",
       "    </tr>\n",
       "  </tbody>\n",
       "</table>\n",
       "</div>"
      ],
      "text/plain": [
       "       Nodes_Visited  Terminal_State_Count  Avg_Terminal_Depth  \\\n",
       "count     300.000000            300.000000          284.000000   \n",
       "mean    11268.763333              1.143333            4.793134   \n",
       "std     24559.394222              0.526351            1.024040   \n",
       "min         8.000000              0.000000            2.000000   \n",
       "25%       120.000000              1.000000            4.000000   \n",
       "50%       537.500000              1.000000            5.000000   \n",
       "75%      7230.500000              1.000000            5.500000   \n",
       "max    111493.000000              4.000000            7.500000   \n",
       "\n",
       "       Terminal_Likelihood  Cyclic_Likelihood  \n",
       "count           300.000000         300.000000  \n",
       "mean              0.003298           0.396706  \n",
       "std               0.012432           0.356642  \n",
       "min               0.000000          -0.000009  \n",
       "25%               0.000005           0.000000  \n",
       "50%               0.000075           0.327746  \n",
       "75%               0.000730           0.720308  \n",
       "max               0.166667           1.000000  "
      ]
     },
     "execution_count": 18,
     "metadata": {},
     "output_type": "execute_result"
    }
   ],
   "source": [
    "result[result.Configuration == 'H3_e'].describe()"
   ]
  },
  {
   "cell_type": "code",
   "execution_count": 37,
   "metadata": {},
   "outputs": [
    {
     "data": {
      "text/plain": [
       "<matplotlib.axes._subplots.AxesSubplot at 0x10f186b10>"
      ]
     },
     "execution_count": 37,
     "metadata": {},
     "output_type": "execute_result"
    },
    {
     "data": {
      "image/png": "[encoded data removed]",
      "text/plain": [
       "<matplotlib.figure.Figure at 0x10f215910>"
      ]
     },
     "metadata": {},
     "output_type": "display_data"
    }
   ],
   "source": [
    "sns.boxplot(H3_do.Nodes_Visited)"
   ]
  },
  {
   "cell_type": "code",
   "execution_count": 33,
   "metadata": {},
   "outputs": [
    {
     "data": {
      "text/plain": [
       "<matplotlib.axes._subplots.AxesSubplot at 0x10ecd7810>"
      ]
     },
     "execution_count": 33,
     "metadata": {},
     "output_type": "execute_result"
    },
    {
     "data": {
      "image/png": "[encoded data removed]",
      "text/plain": [
       "<matplotlib.figure.Figure at 0x10ecad510>"
      ]
     },
     "metadata": {},
     "output_type": "display_data"
    }
   ],
   "source": [
    "sns.boxplot(H3_eo.Nodes_Visited)"
   ]
  },
  {
   "cell_type": "code",
   "execution_count": 36,
   "metadata": {},
   "outputs": [
    {
     "data": {
      "text/plain": [
       "<matplotlib.axes._subplots.AxesSubplot at 0x10f073350>"
      ]
     },
     "execution_count": 36,
     "metadata": {},
     "output_type": "execute_result"
    },
    {
     "data": {
      "image/png": "[encoded data removed]",
      "text/plain": [
       "<matplotlib.figure.Figure at 0x10ef310d0>"
      ]
     },
     "metadata": {},
     "output_type": "display_data"
    }
   ],
   "source": [
    "sns.boxplot(H3_bo.Nodes_Visited)"
   ]
  },
  {
   "cell_type": "code",
   "execution_count": 29,
   "metadata": {},
   "outputs": [
    {
     "data": {
      "image/png": "[encoded data removed]",
      "text/plain": [
       "<matplotlib.figure.Figure at 0x10e51a290>"
      ]
     },
     "metadata": {},
     "output_type": "display_data"
    }
   ],
   "source": [
    "sns.set(style=\"ticks\")\n",
    "\n",
    "\n",
    "cols = ['1D','2D','3D','4D','5D','6D']\n",
    "\n",
    "# Draw a nested boxplot to show bills by day and sex\n",
    "sns.boxplot(x = 'Configuration', y=\"Nodes_Visited\", hue=\"Configuration\", data=result, palette=\"PRGn\",order = cols)\n",
    "sns.despine(offset=10, trim=True)"
   ]
  },
  {
   "cell_type": "markdown",
   "metadata": {},
   "source": [
    "<H2> H5 Work"
   ]
  },
  {
   "cell_type": "code",
   "execution_count": 10,
   "metadata": {},
   "outputs": [],
   "source": [
    "def value_correct(df,column_name):\n",
    "\n",
    "    line_name = column_name\n",
    "    cl_list = df[column_name]\n",
    "\n",
    "    updated_line = map(lambda x:x if x>0 else 0, cl_list)\n",
    "\n",
    "    df[column_name] = pd.Series(updated_line)\n",
    "\n",
    "    return df"
   ]
  },
  {
   "cell_type": "code",
   "execution_count": 11,
   "metadata": {},
   "outputs": [],
   "source": [
    "H5_a = pd.read_excel('files/H5_a.xlsx')\n",
    "H5_b = pd.read_excel('files/H5_b.xlsx')\n",
    "H5_c = baseline\n",
    "H5_d50S = pd.read_excel('files/H5_d50S.xlsx')\n",
    "\n",
    "H5_ao = value_correct(von_Neumann(H5_a,'H5_a'), 'Cyclic_Likelihood')\n",
    "H5_bo = value_correct(von_Neumann(H5_b,'H5_b'), 'Cyclic_Likelihood')\n",
    "H5_co = value_correct(von_Neumann(H5_c,'H5_c'), 'Cyclic_Likelihood')\n",
    "H5_do = value_correct(von_Neumann(H5_d50S,'H5_d'), 'Cyclic_Likelihood')\n",
    "\n",
    "frames = [H5_ao, H5_bo, H5_co, H5_do]\n",
    "result = pd.concat(frames)\n"
   ]
  },
  {
   "cell_type": "code",
   "execution_count": 12,
   "metadata": {},
   "outputs": [
    {
     "data": {
      "image/png": "[encoded data removed]",
      "text/plain": [
       "<matplotlib.figure.Figure at 0x10bcb8fd0>"
      ]
     },
     "metadata": {},
     "output_type": "display_data"
    }
   ],
   "source": [
    "sns.set(style=\"ticks\")\n",
    "\n",
    "# Draw a nested boxplot to show bills by day and sex\n",
    "sns.boxplot(x = 'Configuration', y=\"Cyclic_Likelihood\", hue=\"Configuration\", data=result, palette=\"PRGn\")\n",
    "sns.despine(offset=10, trim=True)"
   ]
  },
  {
   "cell_type": "code",
   "execution_count": 13,
   "metadata": {},
   "outputs": [
    {
     "data": {
      "image/png": "[encoded data removed]",
      "text/plain": [
       "<matplotlib.figure.Figure at 0x10e2d7b90>"
      ]
     },
     "metadata": {},
     "output_type": "display_data"
    }
   ],
   "source": [
    "sns.set(style=\"ticks\")\n",
    "\n",
    "# Draw a nested boxplot to show bills by day and sex\n",
    "sns.boxplot(x = 'Configuration', y=\"Cyclic_Likelihood\", hue=\"Configuration\", data=result, palette=\"PRGn\")\n",
    "sns.despine(offset=10, trim=True)"
   ]
  },
  {
   "cell_type": "markdown",
   "metadata": {},
   "source": [
    "<H3> H9 WORK"
   ]
  },
  {
   "cell_type": "code",
   "execution_count": 14,
   "metadata": {},
   "outputs": [],
   "source": [
    "H9_a = pd.read_excel('files/grande_bellezza/H3_b.xlsx')\n",
    "\n",
    "H9_b50 = pd.read_excel('files/H9_b50.xlsx')\n",
    "H9_b50copy = pd.read_excel('files/grande_bellezza/H9_b50.xlsx')\n",
    "\n",
    "H9_ao = value_correct(von_Neumann(H9_a,'H9_a'), 'Cyclic_Likelihood')\n",
    "H9_bo1 = value_correct(von_Neumann(H9_b50,'H9_b'), 'Cyclic_Likelihood')\n",
    "H9_bo2 = value_correct(von_Neumann(H9_b50copy,'H9_b'), 'Cyclic_Likelihood')\n",
    "frames = [H9_bo1, H9_bo2]\n",
    "H9_bo = pd.concat(frames)\n",
    "\n",
    "frames = [H9_ao, H9_bo1, H9_bo2]\n",
    "result = pd.concat(frames)"
   ]
  },
  {
   "cell_type": "code",
   "execution_count": 15,
   "metadata": {},
   "outputs": [
    {
     "data": {
      "text/html": [
       "<div>\n",
       "<style>\n",
       "    .dataframe thead tr:only-child th {\n",
       "        text-align: right;\n",
       "    }\n",
       "\n",
       "    .dataframe thead th {\n",
       "        text-align: left;\n",
       "    }\n",
       "\n",
       "    .dataframe tbody tr th {\n",
       "        vertical-align: top;\n",
       "    }\n",
       "</style>\n",
       "<table border=\"1\" class=\"dataframe\">\n",
       "  <thead>\n",
       "    <tr style=\"text-align: right;\">\n",
       "      <th></th>\n",
       "      <th>Nodes_Visited</th>\n",
       "      <th>Terminal_State_Count</th>\n",
       "      <th>Avg_Terminal_Depth</th>\n",
       "      <th>Terminal_Likelihood</th>\n",
       "      <th>Cyclic_Likelihood</th>\n",
       "    </tr>\n",
       "  </thead>\n",
       "  <tbody>\n",
       "    <tr>\n",
       "      <th>count</th>\n",
       "      <td>100.000000</td>\n",
       "      <td>100.00</td>\n",
       "      <td>93.000000</td>\n",
       "      <td>100.000000</td>\n",
       "      <td>100.000000</td>\n",
       "    </tr>\n",
       "    <tr>\n",
       "      <th>mean</th>\n",
       "      <td>2355.300000</td>\n",
       "      <td>1.05</td>\n",
       "      <td>4.126344</td>\n",
       "      <td>0.024321</td>\n",
       "      <td>0.266829</td>\n",
       "    </tr>\n",
       "    <tr>\n",
       "      <th>std</th>\n",
       "      <td>11524.407067</td>\n",
       "      <td>0.50</td>\n",
       "      <td>1.031187</td>\n",
       "      <td>0.105588</td>\n",
       "      <td>0.308253</td>\n",
       "    </tr>\n",
       "    <tr>\n",
       "      <th>min</th>\n",
       "      <td>2.000000</td>\n",
       "      <td>0.00</td>\n",
       "      <td>1.000000</td>\n",
       "      <td>0.000000</td>\n",
       "      <td>0.000000</td>\n",
       "    </tr>\n",
       "    <tr>\n",
       "      <th>25%</th>\n",
       "      <td>31.000000</td>\n",
       "      <td>1.00</td>\n",
       "      <td>4.000000</td>\n",
       "      <td>0.000111</td>\n",
       "      <td>0.000000</td>\n",
       "    </tr>\n",
       "    <tr>\n",
       "      <th>50%</th>\n",
       "      <td>92.000000</td>\n",
       "      <td>1.00</td>\n",
       "      <td>4.000000</td>\n",
       "      <td>0.000748</td>\n",
       "      <td>0.150345</td>\n",
       "    </tr>\n",
       "    <tr>\n",
       "      <th>75%</th>\n",
       "      <td>262.500000</td>\n",
       "      <td>1.00</td>\n",
       "      <td>5.000000</td>\n",
       "      <td>0.007291</td>\n",
       "      <td>0.499091</td>\n",
       "    </tr>\n",
       "    <tr>\n",
       "      <th>max</th>\n",
       "      <td>90876.000000</td>\n",
       "      <td>4.00</td>\n",
       "      <td>6.000000</td>\n",
       "      <td>1.000000</td>\n",
       "      <td>0.989101</td>\n",
       "    </tr>\n",
       "  </tbody>\n",
       "</table>\n",
       "</div>"
      ],
      "text/plain": [
       "       Nodes_Visited  Terminal_State_Count  Avg_Terminal_Depth  \\\n",
       "count     100.000000                100.00           93.000000   \n",
       "mean     2355.300000                  1.05            4.126344   \n",
       "std     11524.407067                  0.50            1.031187   \n",
       "min         2.000000                  0.00            1.000000   \n",
       "25%        31.000000                  1.00            4.000000   \n",
       "50%        92.000000                  1.00            4.000000   \n",
       "75%       262.500000                  1.00            5.000000   \n",
       "max     90876.000000                  4.00            6.000000   \n",
       "\n",
       "       Terminal_Likelihood  Cyclic_Likelihood  \n",
       "count           100.000000         100.000000  \n",
       "mean              0.024321           0.266829  \n",
       "std               0.105588           0.308253  \n",
       "min               0.000000           0.000000  \n",
       "25%               0.000111           0.000000  \n",
       "50%               0.000748           0.150345  \n",
       "75%               0.007291           0.499091  \n",
       "max               1.000000           0.989101  "
      ]
     },
     "execution_count": 15,
     "metadata": {},
     "output_type": "execute_result"
    }
   ],
   "source": [
    "(result.loc[result.Configuration=='H9_b']).describe()\n",
    "H9_ao.describe()"
   ]
  },
  {
   "cell_type": "code",
   "execution_count": 16,
   "metadata": {},
   "outputs": [
    {
     "data": {
      "text/plain": [
       "Ks_2sampResult(statistic=0.37, pvalue=1.3347399942910654e-06)"
      ]
     },
     "execution_count": 16,
     "metadata": {},
     "output_type": "execute_result"
    }
   ],
   "source": [
    "import scipy\n",
    "\n",
    "scipy.stats.ks_2samp(H9_ao.Cyclic_Likelihood, H9_bo.Cyclic_Likelihood)"
   ]
  },
  {
   "cell_type": "code",
   "execution_count": 17,
   "metadata": {},
   "outputs": [],
   "source": [
    "baseline = pd.read_excel('files/baseline.xlsx')\n",
    "H1_b = pd.read_excel('files/H1_b.xlsx')\n",
    "\n",
    "baseline_o = value_correct(von_Neumann(baseline,'baseline'), 'Cyclic_Likelihood')\n",
    "H1_bo = value_correct(von_Neumann(H1_b,'H1_b'), 'Cyclic_Likelihood')"
   ]
  },
  {
   "cell_type": "code",
   "execution_count": 18,
   "metadata": {},
   "outputs": [
    {
     "data": {
      "text/plain": [
       "Ks_2sampResult(statistic=0.12, pvalue=0.44312540269882572)"
      ]
     },
     "execution_count": 18,
     "metadata": {},
     "output_type": "execute_result"
    }
   ],
   "source": [
    "import scipy\n",
    "\n",
    "sample_1 = baseline_o.sample(100)\n",
    "sample_2 = H1_bo.sample(100)\n",
    "\n",
    "scipy.stats.ks_2samp(sample_1.Terminal_Likelihood, sample_2.Terminal_Likelihood)"
   ]
  },
  {
   "cell_type": "code",
   "execution_count": null,
   "metadata": {},
   "outputs": [],
   "source": []
  },
  {
   "cell_type": "markdown",
   "metadata": {},
   "source": [
    "<H2> Hypothesis Testing"
   ]
  },
  {
   "cell_type": "code",
   "execution_count": 19,
   "metadata": {},
   "outputs": [
    {
     "ename": "NameError",
     "evalue": "name 'H2_a_output' is not defined",
     "output_type": "error",
     "traceback": [
      "\u001b[0;31m---------------------------------------------------------------------------\u001b[0m",
      "\u001b[0;31mNameError\u001b[0m                                 Traceback (most recent call last)",
      "\u001b[0;32m<ipython-input-19-e78349c26233>\u001b[0m in \u001b[0;36m<module>\u001b[0;34m()\u001b[0m\n\u001b[1;32m      1\u001b[0m \u001b[0;32mimport\u001b[0m \u001b[0mscipy\u001b[0m\u001b[0;34m\u001b[0m\u001b[0m\n\u001b[0;32m----> 2\u001b[0;31m \u001b[0mG1\u001b[0m\u001b[0;34m,\u001b[0m \u001b[0mG2\u001b[0m \u001b[0;34m=\u001b[0m \u001b[0mH2_a_output\u001b[0m\u001b[0;34m.\u001b[0m\u001b[0mCyclic_Likelihood\u001b[0m\u001b[0;34m,\u001b[0m \u001b[0mH2_b_output\u001b[0m\u001b[0;34m.\u001b[0m\u001b[0mCyclic_Likelihood\u001b[0m\u001b[0;34m\u001b[0m\u001b[0m\n\u001b[0m\u001b[1;32m      3\u001b[0m \u001b[0mscipy\u001b[0m\u001b[0;34m.\u001b[0m\u001b[0mstats\u001b[0m\u001b[0;34m.\u001b[0m\u001b[0mttest_ind\u001b[0m\u001b[0;34m(\u001b[0m\u001b[0mG1\u001b[0m\u001b[0;34m,\u001b[0m \u001b[0mG2\u001b[0m\u001b[0;34m,\u001b[0m \u001b[0mequal_var\u001b[0m\u001b[0;34m=\u001b[0m\u001b[0mFalse\u001b[0m\u001b[0;34m)\u001b[0m\u001b[0;34m\u001b[0m\u001b[0m\n",
      "\u001b[0;31mNameError\u001b[0m: name 'H2_a_output' is not defined"
     ]
    }
   ],
   "source": [
    "import scipy\n",
    "G1, G2 = H2_a_output.Cyclic_Likelihood, H2_b_output.Cyclic_Likelihood\n",
    "scipy.stats.ttest_ind(G1, G2, equal_var=False)"
   ]
  },
  {
   "cell_type": "code",
   "execution_count": null,
   "metadata": {},
   "outputs": [],
   "source": []
  },
  {
   "cell_type": "code",
   "execution_count": null,
   "metadata": {},
   "outputs": [],
   "source": [
    "H9_b50"
   ]
  },
  {
   "cell_type": "code",
   "execution_count": null,
   "metadata": {},
   "outputs": [],
   "source": [
    "from scipy.stats import ks_2samp\n",
    "\n",
    "x = baseline.Visited\n",
    "y = H1_b.Visited\n",
    "z = H2_b.Visited\n",
    "\n",
    "ks_2samp(x, y)"
   ]
  },
  {
   "cell_type": "markdown",
   "metadata": {},
   "source": [
    "<h2> Regression Analysis"
   ]
  },
  {
   "cell_type": "code",
   "execution_count": null,
   "metadata": {},
   "outputs": [],
   "source": [
    "y = np.log(baseline.Visited)\n",
    "x = np.log(baseline.Time)\n",
    "\n",
    "plt.scatter(x, y)\n",
    "plt.show()"
   ]
  },
  {
   "cell_type": "markdown",
   "metadata": {},
   "source": [
    "<h4> H4: Variance in Power Distribution and Chaos"
   ]
  },
  {
   "cell_type": "code",
   "execution_count": null,
   "metadata": {},
   "outputs": [],
   "source": [
    "# Variance in Power Distribution\n",
    "\n",
    "def PV(df):\n",
    "    PV_list = []\n",
    "    power_list = ['A Power','B Power','C Power','D Power','E Power','F Power','G Power','H Power','G Power', 'H Power','I Power','J Power']\n",
    "    #power_list = ['A Power','B Power','C Power']\n",
    "    \n",
    "    for i in df.index:\n",
    "        p_list = []\n",
    "        \n",
    "        for power in power_list:\n",
    "            p_list.append(df[power][i])\n",
    "        \n",
    "        normalized_variance = np.var(p_list)/np.square(np.mean(p_list))\n",
    "        \n",
    "        PV_list.append(normalized_variance)\n",
    "    \n",
    "    PV_series = pd.Series(PV_list)\n",
    "    return PV_series\n",
    "\n",
    "def PM(df):\n",
    "    p_list = []\n",
    "    power_list = ['A Power','B Power','C Power','D Power','E Power','F Power','G Power','H Power','G Power', 'H Power','I Power','J Power']\n",
    "    #power_list = ['A Power','B Power','C Power']\n",
    "\n",
    "    for i in df.index:        \n",
    "        for power in power_list:\n",
    "            p_list.append(df[power][i])\n",
    "        \n",
    "            \n",
    "    p_series = pd.Series(p_list)\n",
    "    return p_series"
   ]
  },
  {
   "cell_type": "code",
   "execution_count": null,
   "metadata": {},
   "outputs": [],
   "source": [
    "# frames = [H1_b, baseline]\n",
    "# result = pd.concat(frames)\n"
   ]
  },
  {
   "cell_type": "code",
   "execution_count": null,
   "metadata": {},
   "outputs": [],
   "source": [
    "def Power_von_Neumann(output):\n",
    "    \n",
    "    df = pd.DataFrame(columns=['Power_Variance', 'Nodes_Visited','Terminal_State_Count', 'Avg_Terminal_Depth', \n",
    "                          'Terminal_Likelihood', 'Cyclic_Likelihood'])\n",
    "\n",
    "    df['Power_Variance'] = PV(output)\n",
    "    df['Nodes_Visited'] = NV(output)\n",
    "    df['Terminal_State_Count'] = TSC(output)\n",
    "    df['Avg_Terminal_Depth'] = ATD(output)\n",
    "    df['Terminal_Likelihood'] = TL(output)\n",
    "    df['Cyclic_Likelihood'] = CL(output)\n",
    "    \n",
    "    \n",
    "    return df"
   ]
  },
  {
   "cell_type": "code",
   "execution_count": null,
   "metadata": {},
   "outputs": [],
   "source": [
    "result1 = Power_von_Neumann(baseline)\n",
    "result2 = Power_von_Neumann(H1_b)\n",
    "result3 = Power_von_Neumann(H2_b)\n",
    "\n",
    "frames = [result1, result2, result3]\n",
    "result = pd.concat(frames)"
   ]
  },
  {
   "cell_type": "code",
   "execution_count": null,
   "metadata": {},
   "outputs": [],
   "source": [
    "# additional datasets\n",
    "\n",
    "H4_PF1000 = pd.read_excel('files/grande_bellezza/H4_PF1000.xlsx')\n",
    "\n",
    "#PF1000 = Power_von_Neumann(H4_PF1000)"
   ]
  },
  {
   "cell_type": "code",
   "execution_count": null,
   "metadata": {},
   "outputs": [],
   "source": [
    "#changes here\n",
    "\n",
    "x = (result.Power_Variance)\n",
    "y = (result.Cyclic_Likelihood)\n",
    "\n",
    "pair_df = pd.DataFrame()\n",
    "pair_df['Power_Variance'] = x\n",
    "pair_df['Cyclic_Likelihood'] = y\n",
    "\n",
    "\n",
    "filtered_pair =pair_df[pair_df.Power_Variance<=0.7]\n",
    "filtered_pair =filtered_pair[filtered_pair.Cyclic_Likelihood>=0]"
   ]
  },
  {
   "cell_type": "code",
   "execution_count": null,
   "metadata": {},
   "outputs": [],
   "source": [
    "np.sum(result.Power_Variance>0.6)"
   ]
  },
  {
   "cell_type": "code",
   "execution_count": null,
   "metadata": {},
   "outputs": [],
   "source": [
    "pair_df = filtered_pair\n",
    "\n",
    "x = filtered_pair.Power_Variance\n",
    "#changes here\n",
    "y = filtered_pair.Cyclic_Likelihood\n",
    "\n",
    "slope, intercept, r_value, p_value, std_err = scipy.stats.linregress(x,y)\n",
    "\n",
    "plt.figure(num=None, figsize=(12, 8), dpi=111, facecolor='w', edgecolor='k')\n",
    "\n",
    "plt.plot(x,y, 'o', label='Original Data')\n",
    "plt.plot(x, intercept + slope*x, 'r', label='Fitted Line')\n",
    "plt.xlabel('Power_Variance')\n",
    "plt.ylabel('Cyclic_Likelihood')\n",
    "plt.legend()\n",
    "plt.show()\n",
    "\n",
    "#sns.regplot(x=\"Normalized Power Variance\", y=\"Cyclic Likelihood\", data=pair_df);\n"
   ]
  },
  {
   "cell_type": "code",
   "execution_count": null,
   "metadata": {},
   "outputs": [],
   "source": [
    "\n",
    "sns.set_context(\"paper\", font_scale=1.5, rc={\"lines.linewidth\": 2.5})\n",
    "g = (sns.jointplot(x,y, data=pair_df, kind=\"kde\",size=10))\n",
    "\n",
    "#g = sns.jointplot(x=\"Normalized Power Variance\", y=\"Cyclic Likelihood\", data=pair_df, kind=\"kde\", color=\"m\")\n",
    "#g.plot_joint(plt.scatter, c=\"w\", s=30, linewidth=1, marker=\"+\")\n",
    "#g.ax_joint.collections[0].set_alpha(0)\n",
    "#g.set_axis_labels(\"$X$\", \"$Y$\");"
   ]
  },
  {
   "cell_type": "code",
   "execution_count": null,
   "metadata": {},
   "outputs": [],
   "source": [
    "slope, intercept, r_value, p_value, std_err"
   ]
  },
  {
   "cell_type": "code",
   "execution_count": null,
   "metadata": {},
   "outputs": [],
   "source": [
    "sns.set_context(\"paper\", font_scale=1.5, rc={\"lines.linewidth\": 2.5})\n",
    "\n",
    "sns.residplot(x,y)\n"
   ]
  },
  {
   "cell_type": "code",
   "execution_count": null,
   "metadata": {},
   "outputs": [],
   "source": [
    "sns.distplot(result.Power_Variance)"
   ]
  },
  {
   "cell_type": "markdown",
   "metadata": {},
   "source": [
    "<h3> PCMA METHOD"
   ]
  },
  {
   "cell_type": "code",
   "execution_count": null,
   "metadata": {},
   "outputs": [],
   "source": [
    "def pseudo_sampling(df, outcome_name = 'Cyclic_Likelihod', n = 100):\n",
    "    max_input_value = np.max(df.Power_Variance)\n",
    "    min_input_value = np.min(df.Power_Variance)\n",
    "    increment = (max_input_value-min_input_value)/n\n",
    "    \n",
    "    #print max_input_value, min_input_value,increment\n",
    "    \n",
    "    sample_mean_list = []\n",
    "    \n",
    "    for i in range(1,n+1):\n",
    "        lower_bound = min_input_value + increment*(i-1)\n",
    "        upper_bound = min_input_value + increment*i\n",
    "        #print lower_bound, upper_bound\n",
    "        \n",
    "        r1 = df[df.Power_Variance<=upper_bound]\n",
    "        r2 = r1[r1.Power_Variance>=lower_bound]\n",
    "        \n",
    "        #print(len(r1))\n",
    "        #print(len(r2))\n",
    "        \n",
    "        sample_mean = np.mean(r2[outcome_name])\n",
    "        sample_mean_list.append(sample_mean)\n",
    "    \n",
    "    x = range(1,n+1)\n",
    "    \n",
    "    result = pd.DataFrame()\n",
    "    result['input_interval'] = pd.Series(x)\n",
    "    result['outcome_mean'] = pd.Series(sample_mean_list)\n",
    "    \n",
    "    return result\n",
    "        \n",
    "        "
   ]
  },
  {
   "cell_type": "code",
   "execution_count": null,
   "metadata": {},
   "outputs": [],
   "source": [
    "sample_mean_df = pseudo_sampling(result, outcome_name='Terminal_Likelihood', n =50)\n",
    "\n",
    "filter_sm_df = sample_mean_df.dropna()[:30]"
   ]
  },
  {
   "cell_type": "code",
   "execution_count": null,
   "metadata": {},
   "outputs": [],
   "source": [
    "x = filter_sm_df.input_interval\n",
    "#changes here\n",
    "y = filter_sm_df.outcome_mean\n",
    "\n",
    "slope, intercept, r_value, p_value, std_err = scipy.stats.linregress(x,y)\n",
    "\n",
    "plt.figure(num=None, figsize=(12, 8), dpi=111, facecolor='w', edgecolor='k')\n",
    "\n",
    "plt.plot(x,y, 'o', label='Original Data')\n",
    "plt.plot(x, intercept + slope*x, 'r', label='Fitted Line')\n",
    "plt.xlabel('Input_Interval')\n",
    "plt.ylabel('Outcome_Mean')\n",
    "plt.legend()\n",
    "plt.show()"
   ]
  },
  {
   "cell_type": "code",
   "execution_count": null,
   "metadata": {
    "scrolled": true
   },
   "outputs": [],
   "source": [
    "slope, intercept, r_value, p_value, std_err"
   ]
  },
  {
   "cell_type": "code",
   "execution_count": null,
   "metadata": {},
   "outputs": [],
   "source": [
    "slope*50"
   ]
  },
  {
   "cell_type": "markdown",
   "metadata": {},
   "source": [
    "<H3> Verification and Validation"
   ]
  },
  {
   "cell_type": "code",
   "execution_count": null,
   "metadata": {},
   "outputs": [],
   "source": [
    "sns.distplot(baseline['D Power'])"
   ]
  },
  {
   "cell_type": "code",
   "execution_count": null,
   "metadata": {},
   "outputs": [],
   "source": []
  },
  {
   "cell_type": "code",
   "execution_count": null,
   "metadata": {},
   "outputs": [],
   "source": [
    "range(0,3)"
   ]
  },
  {
   "cell_type": "code",
   "execution_count": null,
   "metadata": {},
   "outputs": [],
   "source": [
    "baseline_o\n",
    "\n",
    "\n",
    "\n",
    "ks_statistic, p_value = scipy.stats.ks_2samp(baseline_o.sample(100).Cyclic_Likelihood, baseline_o.sample(100).Cyclic_Likelihood)"
   ]
  },
  {
   "cell_type": "code",
   "execution_count": null,
   "metadata": {},
   "outputs": [],
   "source": [
    "import scipy\n",
    "\n",
    "def ks_test_table(df, variable_name):\n",
    "    \n",
    "    result_df = pd.DataFrame()\n",
    "    ks_list = []\n",
    "    pv_list = []\n",
    "    \n",
    "    for i in range(0,100):\n",
    "            ks_statistic, p_value = scipy.stats.ks_2samp(df.sample(100)[variable_name], \n",
    "                                                         df.sample(100)[variable_name])\n",
    "            ks_list.append(ks_statistic)\n",
    "            pv_list.append(p_value)\n",
    "    \n",
    "    result_df['ks-statistic'] = pd.Series(ks_list)\n",
    "    result_df['p-value'] = pd.Series(pv_list)\n",
    "    \n",
    "    return result_df"
   ]
  },
  {
   "cell_type": "code",
   "execution_count": null,
   "metadata": {},
   "outputs": [],
   "source": [
    "sns.distplot(ks_test_table(H9_ao, 'Cyclic_Likelihood')['p-value'],bins=20, kde=False, rug=False)"
   ]
  },
  {
   "cell_type": "code",
   "execution_count": null,
   "metadata": {},
   "outputs": [],
   "source": [
    "sns.boxplot(ks_test_table(H9_ao, 'Cyclic_Likelihood')['p-value'])"
   ]
  },
  {
   "cell_type": "code",
   "execution_count": null,
   "metadata": {},
   "outputs": [],
   "source": [
    "np.sum(ks_test_table(H9_ao, 'Cyclic_Likelihood')['p-value']<0.01)"
   ]
  },
  {
   "cell_type": "code",
   "execution_count": null,
   "metadata": {},
   "outputs": [],
   "source": []
  }
 ],
 "metadata": {
  "kernelspec": {
   "display_name": "Python 2",
   "language": "python",
   "name": "python2"
  },
  "language_info": {
   "codemirror_mode": {
    "name": "ipython",
    "version": 2
   },
   "file_extension": ".py",
   "mimetype": "text/x-python",
   "name": "python",
   "nbconvert_exporter": "python",
   "pygments_lexer": "ipython2",
   "version": "2.7.14"
  }
 },
 "nbformat": 4,
 "nbformat_minor": 2
}
